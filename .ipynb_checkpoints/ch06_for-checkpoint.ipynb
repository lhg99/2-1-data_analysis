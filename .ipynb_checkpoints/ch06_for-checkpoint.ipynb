{
 "cells": [
  {
   "cell_type": "code",
   "execution_count": 7,
   "metadata": {},
   "outputs": [
    {
     "name": "stdout",
     "output_type": "stream",
     "text": [
      "15\n"
     ]
    }
   ],
   "source": [
    "sum = 0\n",
    "\n",
    "sum = sum + 1\n",
    "sum = sum + 2\n",
    "sum = sum + 3\n",
    "sum = sum + 4\n",
    "sum = sum + 5\n",
    "\n",
    "print(sum)"
   ]
  },
  {
   "cell_type": "code",
   "execution_count": 10,
   "metadata": {},
   "outputs": [
    {
     "name": "stdout",
     "output_type": "stream",
     "text": [
      "55\n"
     ]
    }
   ],
   "source": [
    "sum = 0\n",
    "\n",
    "for i in range(1, 11, 1) :\n",
    "    sum=sum+i\n",
    "    \n",
    "print(sum)"
   ]
  },
  {
   "cell_type": "code",
   "execution_count": 11,
   "metadata": {},
   "outputs": [
    {
     "name": "stdout",
     "output_type": "stream",
     "text": [
      "끝값 : 10\n",
      "55\n"
     ]
    }
   ],
   "source": [
    "sum = 0\n",
    "num=int(input(\"끝값 : \"))\n",
    "\n",
    "for i in range(1, num+1, 1) :\n",
    "    sum=sum+i\n",
    "\n",
    "print(sum)"
   ]
  },
  {
   "cell_type": "code",
   "execution_count": 9,
   "metadata": {},
   "outputs": [
    {
     "name": "stdout",
     "output_type": "stream",
     "text": [
      "시작값 : 1\n",
      "끝값 : 10\n",
      "증가값 : 1\n",
      "55\n"
     ]
    }
   ],
   "source": [
    "sum = 0\n",
    "start = int(input(\"시작값 : \"))\n",
    "end = int(input(\"끝값 : \"))\n",
    "plusminus = int(input(\"증가값 : \"))\n",
    "\n",
    "for i in range(start, end+1, plusminus) :\n",
    "    sum=sum+i\n",
    "\n",
    "print(sum)"
   ]
  },
  {
   "cell_type": "markdown",
   "metadata": {},
   "source": [
    "# ch06_for_gugudan"
   ]
  },
  {
   "cell_type": "code",
   "execution_count": 31,
   "metadata": {},
   "outputs": [
    {
     "name": "stdout",
     "output_type": "stream",
     "text": [
      "몇 단 : 3\n",
      "## 3단##\n",
      " 3X 1= 3\n",
      " 3X 2= 6\n",
      " 3X 3= 9\n",
      " 3X 4=12\n",
      " 3X 5=15\n",
      " 3X 6=18\n",
      " 3X 7=21\n",
      " 3X 8=24\n",
      " 3X 9=27\n"
     ]
    }
   ],
   "source": [
    "dan=int(input(\"몇 단 : \"))\n",
    "print(\"##%2d단##\" % dan)\n",
    "\n",
    "for i in range(1, 10, 1) :\n",
    "    print(\"%2dX%2d=%2d\" %(dan, i, dan*i))"
   ]
  },
  {
   "cell_type": "code",
   "execution_count": 21,
   "metadata": {},
   "outputs": [
    {
     "name": "stdout",
     "output_type": "stream",
     "text": [
      "## 2단##\n",
      " 2X 1= 2\n",
      " 2X 2= 4\n",
      " 2X 3= 6\n",
      " 2X 4= 8\n",
      " 2X 5=10\n",
      " 2X 6=12\n",
      " 2X 7=14\n",
      " 2X 8=16\n",
      " 2X 9=18\n",
      "## 3단##\n",
      " 3X 1= 3\n",
      " 3X 2= 6\n",
      " 3X 3= 9\n",
      " 3X 4=12\n",
      " 3X 5=15\n",
      " 3X 6=18\n",
      " 3X 7=21\n",
      " 3X 8=24\n",
      " 3X 9=27\n",
      "## 4단##\n",
      " 4X 1= 4\n",
      " 4X 2= 8\n",
      " 4X 3=12\n",
      " 4X 4=16\n",
      " 4X 5=20\n",
      " 4X 6=24\n",
      " 4X 7=28\n",
      " 4X 8=32\n",
      " 4X 9=36\n",
      "## 5단##\n",
      " 5X 1= 5\n",
      " 5X 2=10\n",
      " 5X 3=15\n",
      " 5X 4=20\n",
      " 5X 5=25\n",
      " 5X 6=30\n",
      " 5X 7=35\n",
      " 5X 8=40\n",
      " 5X 9=45\n",
      "## 6단##\n",
      " 6X 1= 6\n",
      " 6X 2=12\n",
      " 6X 3=18\n",
      " 6X 4=24\n",
      " 6X 5=30\n",
      " 6X 6=36\n",
      " 6X 7=42\n",
      " 6X 8=48\n",
      " 6X 9=54\n",
      "## 7단##\n",
      " 7X 1= 7\n",
      " 7X 2=14\n",
      " 7X 3=21\n",
      " 7X 4=28\n",
      " 7X 5=35\n",
      " 7X 6=42\n",
      " 7X 7=49\n",
      " 7X 8=56\n",
      " 7X 9=63\n",
      "## 8단##\n",
      " 8X 1= 8\n",
      " 8X 2=16\n",
      " 8X 3=24\n",
      " 8X 4=32\n",
      " 8X 5=40\n",
      " 8X 6=48\n",
      " 8X 7=56\n",
      " 8X 8=64\n",
      " 8X 9=72\n",
      "## 9단##\n",
      " 9X 1= 9\n",
      " 9X 2=18\n",
      " 9X 3=27\n",
      " 9X 4=36\n",
      " 9X 5=45\n",
      " 9X 6=54\n",
      " 9X 7=63\n",
      " 9X 8=72\n",
      " 9X 9=81\n"
     ]
    }
   ],
   "source": [
    "for dan in range(2, 10, 1) :\n",
    "    print(\"##%2d단##\" % dan)\n",
    "    for i in range(1, 10, 1) :\n",
    "        print(\"%2dX%2d=%2d\" %(dan, i, dan*i))"
   ]
  },
  {
   "cell_type": "code",
   "execution_count": 30,
   "metadata": {},
   "outputs": [
    {
     "name": "stdout",
     "output_type": "stream",
     "text": [
      "## 2단## ## 3단## ## 4단## ## 5단## ## 6단## ## 7단## ## 8단## ## 9단## \n",
      " 2X 1= 2  3X 1= 3  4X 1= 4  5X 1= 5  6X 1= 6  7X 1= 7  8X 1= 8  9X 1= 9 \n",
      " 2X 2= 4  3X 2= 6  4X 2= 8  5X 2=10  6X 2=12  7X 2=14  8X 2=16  9X 2=18 \n",
      " 2X 3= 6  3X 3= 9  4X 3=12  5X 3=15  6X 3=18  7X 3=21  8X 3=24  9X 3=27 \n",
      " 2X 4= 8  3X 4=12  4X 4=16  5X 4=20  6X 4=24  7X 4=28  8X 4=32  9X 4=36 \n",
      " 2X 5=10  3X 5=15  4X 5=20  5X 5=25  6X 5=30  7X 5=35  8X 5=40  9X 5=45 \n",
      " 2X 6=12  3X 6=18  4X 6=24  5X 6=30  6X 6=36  7X 6=42  8X 6=48  9X 6=54 \n",
      " 2X 7=14  3X 7=21  4X 7=28  5X 7=35  6X 7=42  7X 7=49  8X 7=56  9X 7=63 \n",
      " 2X 8=16  3X 8=24  4X 8=32  5X 8=40  6X 8=48  7X 8=56  8X 8=64  9X 8=72 \n",
      " 2X 9=18  3X 9=27  4X 9=36  5X 9=45  6X 9=54  7X 9=63  8X 9=72  9X 9=81 \n"
     ]
    }
   ],
   "source": [
    "for dan in range(2, 10, 1) :\n",
    "    print(\"##%2d단## \" % dan, end=\"\")\n",
    "print()\n",
    "\n",
    "for i in range(1, 10, 1) :\n",
    "    for dan in range(2, 10, 1) :\n",
    "        print(\"%2dX%2d=%2d \" % (dan, i, dan*i), end=\"\")\n",
    "    print()\n"
   ]
  },
  {
   "cell_type": "code",
   "execution_count": null,
   "metadata": {},
   "outputs": [],
   "source": []
  }
 ],
 "metadata": {
  "kernelspec": {
   "display_name": "Python 3",
   "language": "python",
   "name": "python3"
  },
  "language_info": {
   "codemirror_mode": {
    "name": "ipython",
    "version": 3
   },
   "file_extension": ".py",
   "mimetype": "text/x-python",
   "name": "python",
   "nbconvert_exporter": "python",
   "pygments_lexer": "ipython3",
   "version": "3.8.5"
  }
 },
 "nbformat": 4,
 "nbformat_minor": 4
}
