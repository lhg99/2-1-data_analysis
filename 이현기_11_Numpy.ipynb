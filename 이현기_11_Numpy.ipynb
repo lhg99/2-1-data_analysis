{
 "cells": [
  {
   "cell_type": "markdown",
   "metadata": {},
   "source": [
    "## Numpy"
   ]
  },
  {
   "cell_type": "markdown",
   "metadata": {},
   "source": [
    "### 넘파이 모듈 임포트"
   ]
  },
  {
   "cell_type": "code",
   "execution_count": 1,
   "metadata": {},
   "outputs": [],
   "source": [
    "import numpy as np"
   ]
  },
  {
   "cell_type": "markdown",
   "metadata": {},
   "source": [
    "## ndarray 생성"
   ]
  },
  {
   "cell_type": "code",
   "execution_count": 2,
   "metadata": {},
   "outputs": [
    {
     "name": "stdout",
     "output_type": "stream",
     "text": [
      "list1: [1, 2, 3]\n",
      "list1 type: <class 'list'>\n"
     ]
    }
   ],
   "source": [
    "list1 = [1, 2, 3]\n",
    "print(\"list1:\", list1)\n",
    "print(\"list1 type:\", type(list1))"
   ]
  },
  {
   "cell_type": "code",
   "execution_count": 3,
   "metadata": {},
   "outputs": [
    {
     "name": "stdout",
     "output_type": "stream",
     "text": [
      "array1: [1 2 3]\n",
      "array1 type: <class 'numpy.ndarray'>\n"
     ]
    }
   ],
   "source": [
    "array1 = np.array(list1)\n",
    "print(\"array1:\", array1)\n",
    "print(\"array1 type:\", type(array1))"
   ]
  },
  {
   "cell_type": "markdown",
   "metadata": {},
   "source": [
    "## ndarray - 형태(shape)와 차원"
   ]
  },
  {
   "cell_type": "code",
   "execution_count": 4,
   "metadata": {},
   "outputs": [
    {
     "name": "stdout",
     "output_type": "stream",
     "text": [
      "[ 7  2  9 10]\n",
      "array1 type: <class 'numpy.ndarray'>\n",
      "array1 차원: 1\n",
      "array1 형태: (4,)\n"
     ]
    }
   ],
   "source": [
    "array1 = np.array([7, 2, 9, 10])\n",
    "print(array1)\n",
    "print(\"array1 type:\", type(array1))\n",
    "print(\"array1 차원:\", array1.ndim)\n",
    "print(\"array1 형태:\", array1.shape)"
   ]
  },
  {
   "cell_type": "code",
   "execution_count": 9,
   "metadata": {},
   "outputs": [
    {
     "name": "stdout",
     "output_type": "stream",
     "text": [
      "[[5.2 3.  4.5]\n",
      " [9.1 0.1 0.3]]\n",
      "array2 type: <class 'numpy.ndarray'>\n",
      "array2 차원: 2\n",
      "array2 형태: (2, 3)\n"
     ]
    }
   ],
   "source": [
    "array2 = np.array([[5.2, 3.0, 4.5],\n",
    "                   [9.1, 0.1, 0.3]])\n",
    "print(array2)\n",
    "print(\"array2 type:\", type(array2))\n",
    "print(\"array2 차원:\", array2.ndim)\n",
    "print(\"array2 형태:\", array2.shape)"
   ]
  },
  {
   "cell_type": "code",
   "execution_count": 8,
   "metadata": {},
   "outputs": [
    {
     "name": "stdout",
     "output_type": "stream",
     "text": [
      "[[[1 4 7]\n",
      "  [2 9 7]\n",
      "  [1 3 0]\n",
      "  [9 6 9]]\n",
      "\n",
      " [[2 3 4]\n",
      "  [3 4 5]\n",
      "  [0 1 2]\n",
      "  [6 7 8]]]\n",
      "array3 type: <class 'numpy.ndarray'>\n",
      "array3 차원: 3\n",
      "array3 형태: (2, 4, 3)\n"
     ]
    }
   ],
   "source": [
    "array3 = np.array([[[1, 4, 7],\n",
    "                    [2, 9, 7],\n",
    "                    [1, 3, 0],\n",
    "                    [9, 6, 9]],\n",
    "                   [[2, 3, 4],\n",
    "                    [3, 4, 5],\n",
    "                    [0, 1, 2],\n",
    "                    [6, 7, 8]]])\n",
    "print(array3)\n",
    "print(\"array3 type:\", type(array3))\n",
    "print(\"array3 차원:\", array3.ndim)\n",
    "print(\"array3 형태:\", array3.shape)"
   ]
  },
  {
   "cell_type": "markdown",
   "metadata": {},
   "source": [
    "## ndarray - 타입(type)"
   ]
  },
  {
   "cell_type": "code",
   "execution_count": 11,
   "metadata": {},
   "outputs": [
    {
     "name": "stdout",
     "output_type": "stream",
     "text": [
      "<class 'list'>\n",
      "<class 'numpy.ndarray'>\n",
      "[1 2 3] int32\n"
     ]
    }
   ],
   "source": [
    "list1 = [1, 2, 3]\n",
    "print(type(list1))\n",
    "array1 = np.array(list1)\n",
    "\n",
    "print(type(array1))\n",
    "print(array1, array1.dtype)"
   ]
  },
  {
   "cell_type": "code",
   "execution_count": 12,
   "metadata": {},
   "outputs": [
    {
     "name": "stdout",
     "output_type": "stream",
     "text": [
      "[1. 2. 3.] float64\n"
     ]
    }
   ],
   "source": [
    "list3 = [1, 2, 3.0]\n",
    "array3 = np.array(list3)\n",
    "print(array3, array3.dtype)"
   ]
  },
  {
   "cell_type": "code",
   "execution_count": 13,
   "metadata": {},
   "outputs": [
    {
     "name": "stdout",
     "output_type": "stream",
     "text": [
      "[1. 2. 3.] float64\n",
      "[1 2 3] int32\n"
     ]
    }
   ],
   "source": [
    "arr1 = np.array([1, 2, 3], dtype=np.float64)\n",
    "arr2 = np.array([1, 2, 3], dtype=np.int32)\n",
    "print(arr1, arr1.dtype)\n",
    "print(arr2, arr2.dtype)"
   ]
  },
  {
   "cell_type": "code",
   "execution_count": 14,
   "metadata": {},
   "outputs": [
    {
     "name": "stdout",
     "output_type": "stream",
     "text": [
      "[1. 2. 3.] float64\n",
      "[1 2 3] int32\n"
     ]
    }
   ],
   "source": [
    "arr1 = np.array([1, 2, 3], dtype='f8')\n",
    "arr2 = np.array([1, 2, 3], dtype='i4')\n",
    "print(arr1, arr1.dtype)\n",
    "print(arr2, arr2.dtype)"
   ]
  },
  {
   "cell_type": "markdown",
   "metadata": {},
   "source": [
    "## ndarray - 타입(type) 변환 : astype()|"
   ]
  },
  {
   "cell_type": "code",
   "execution_count": 16,
   "metadata": {},
   "outputs": [
    {
     "name": "stdout",
     "output_type": "stream",
     "text": [
      "[1. 2. 3.] float64\n"
     ]
    }
   ],
   "source": [
    "array_int = np.array([1, 2, 3])\n",
    "array_float = array_int.astype('float64')\n",
    "print(array_float, array_float.dtype)"
   ]
  },
  {
   "cell_type": "code",
   "execution_count": 17,
   "metadata": {},
   "outputs": [
    {
     "name": "stdout",
     "output_type": "stream",
     "text": [
      "[1 2 3] int32\n"
     ]
    }
   ],
   "source": [
    "array_int1=array_float.astype('int32')\n",
    "print(array_int1, array_int1.dtype)"
   ]
  },
  {
   "cell_type": "code",
   "execution_count": 18,
   "metadata": {},
   "outputs": [
    {
     "name": "stdout",
     "output_type": "stream",
     "text": [
      "[1 2 3] int32\n"
     ]
    }
   ],
   "source": [
    "array_float = np.array([1.1, 2.1, 3.1])\n",
    "array_int2=array_float.astype('int32')\n",
    "print(array_int2, array_int2.dtype)"
   ]
  },
  {
   "cell_type": "markdown",
   "metadata": {},
   "source": [
    "## ndarray - axis"
   ]
  },
  {
   "cell_type": "code",
   "execution_count": 19,
   "metadata": {},
   "outputs": [
    {
     "name": "stdout",
     "output_type": "stream",
     "text": [
      "15\n",
      "[3 5 7]\n",
      "[6 9]\n"
     ]
    }
   ],
   "source": [
    "array2 = np.array([[1, 2, 3], \n",
    "                  [2, 3, 4]])\n",
    "\n",
    "print(array2.sum())\n",
    "print(array2.sum(axis=0))\n",
    "print(array2.sum(axis=1))"
   ]
  },
  {
   "cell_type": "markdown",
   "metadata": {},
   "source": [
    "## ndarray - 편리한 생성 : arange, zeros, ones"
   ]
  },
  {
   "cell_type": "code",
   "execution_count": 21,
   "metadata": {},
   "outputs": [
    {
     "name": "stdout",
     "output_type": "stream",
     "text": [
      "[0 1 2 3 4 5 6 7 8 9]\n",
      "int32 (10,)\n"
     ]
    }
   ],
   "source": [
    "array1 = np.arange(10)\n",
    "print(array1)\n",
    "print(array1.dtype, array1.shape)"
   ]
  },
  {
   "cell_type": "code",
   "execution_count": 22,
   "metadata": {},
   "outputs": [
    {
     "name": "stdout",
     "output_type": "stream",
     "text": [
      "[[0 0 0]\n",
      " [0 0 0]\n",
      " [0 0 0]\n",
      " [0 0 0]]\n",
      "int32 (4, 3)\n"
     ]
    }
   ],
   "source": [
    "array2 = np.zeros((4, 3), dtype='int32')\n",
    "print(array2)\n",
    "print(array2.dtype, array2.shape)"
   ]
  },
  {
   "cell_type": "code",
   "execution_count": 23,
   "metadata": {},
   "outputs": [
    {
     "name": "stdout",
     "output_type": "stream",
     "text": [
      "[[1. 1. 1.]\n",
      " [1. 1. 1.]\n",
      " [1. 1. 1.]\n",
      " [1. 1. 1.]]\n",
      "float64 (4, 3)\n"
     ]
    }
   ],
   "source": [
    "array3 = np.ones((4, 3))\n",
    "print(array3)\n",
    "print(array3.dtype, array3.shape)"
   ]
  },
  {
   "cell_type": "markdown",
   "metadata": {},
   "source": [
    "## ndarray - 차원과 크기 변경 : reshape()"
   ]
  },
  {
   "cell_type": "code",
   "execution_count": 24,
   "metadata": {},
   "outputs": [
    {
     "name": "stdout",
     "output_type": "stream",
     "text": [
      "[0 1 2 3 4 5 6 7 8 9]\n"
     ]
    }
   ],
   "source": [
    "array1 = np.arange(10)\n",
    "print(array1)\n",
    "\n",
    "array2 = array1.reshape(2, 5)\n",
    "print(array2)\n",
    "\n",
    "array3 = array1.reshape(5, 2)\n",
    "print(array3)"
   ]
  },
  {
   "cell_type": "code",
   "execution_count": 27,
   "metadata": {},
   "outputs": [
    {
     "name": "stdout",
     "output_type": "stream",
     "text": [
      "array1:\n",
      " [0 1 2 3 4 5 6 7 8 9]\n",
      "array2:\n",
      " [[0 1 2 3 4]\n",
      " [5 6 7 8 9]]\n",
      "array3:\n",
      " [[0 1]\n",
      " [2 3]\n",
      " [4 5]\n",
      " [6 7]\n",
      " [8 9]]\n"
     ]
    }
   ],
   "source": [
    "array1 = np.arange(10)\n",
    "print(\"array1:\\n\", array1)\n",
    "\n",
    "array2 = array1.reshape(-1, 5)\n",
    "print(\"array2:\\n\", array2)\n",
    "\n",
    "array3 = array1.reshape(5, -1)\n",
    "print(\"array3:\\n\", array3)"
   ]
  },
  {
   "cell_type": "code",
   "execution_count": 36,
   "metadata": {},
   "outputs": [
    {
     "name": "stdout",
     "output_type": "stream",
     "text": [
      "array2 shape: (10, 1)\n",
      "array2:\n",
      " [[0]\n",
      " [1]\n",
      " [2]\n",
      " [3]\n",
      " [4]\n",
      " [5]\n",
      " [6]\n",
      " [7]\n",
      " [8]\n",
      " [9]]\n",
      "array3 shape: (10,)\n",
      "array3:\n",
      " [0 1 2 3 4 5 6 7 8 9]\n"
     ]
    }
   ],
   "source": [
    "# reshape()는 (-1, 1), (-1, )와 같은 형태로 주로 사용됨.\n",
    "# 1차원 ndarray를 2차원으로 또는 2차원 ndarray를 1차원으로 변환시 사용\n",
    "array1 = np.arange(10)\n",
    "\n",
    "# 1차원 ndarray를 2차원으로 변환하되, 컬럼axis크기는 반드시 1이어야 함.\n",
    "array2 = array1.reshape(-1, 1)\n",
    "print(\"array2 shape:\", array2.shape)\n",
    "print(\"array2:\\n\", array2)\n",
    "\n",
    "# 2차원 ndarray를 1차원으로 변환\n",
    "array3 = array2.reshape(-1,)\n",
    "print(\"array3 shape:\", array3.shape)\n",
    "print(\"array3:\\n\", array3)"
   ]
  },
  {
   "cell_type": "code",
   "execution_count": 34,
   "metadata": {},
   "outputs": [
    {
     "ename": "ValueError",
     "evalue": "cannot reshape array of size 10 into shape (4)",
     "output_type": "error",
     "traceback": [
      "\u001b[1;31m---------------------------------------------------------------------------\u001b[0m",
      "\u001b[1;31mValueError\u001b[0m                                Traceback (most recent call last)",
      "\u001b[1;32m<ipython-input-34-b848765d5520>\u001b[0m in \u001b[0;36m<module>\u001b[1;34m\u001b[0m\n\u001b[0;32m      1\u001b[0m \u001b[1;31m# -1을 적용하여도 변환이 불가능한 형태로의 변환을 요구할 경우 오류 발생\u001b[0m\u001b[1;33m\u001b[0m\u001b[1;33m\u001b[0m\u001b[1;33m\u001b[0m\u001b[0m\n\u001b[0;32m      2\u001b[0m \u001b[0marray1\u001b[0m \u001b[1;33m=\u001b[0m \u001b[0mnp\u001b[0m\u001b[1;33m.\u001b[0m\u001b[0marange\u001b[0m\u001b[1;33m(\u001b[0m\u001b[1;36m10\u001b[0m\u001b[1;33m)\u001b[0m\u001b[1;33m\u001b[0m\u001b[1;33m\u001b[0m\u001b[0m\n\u001b[1;32m----> 3\u001b[1;33m \u001b[0marray4\u001b[0m \u001b[1;33m=\u001b[0m \u001b[0marray1\u001b[0m\u001b[1;33m.\u001b[0m\u001b[0mreshape\u001b[0m\u001b[1;33m(\u001b[0m\u001b[1;33m-\u001b[0m\u001b[1;36m1\u001b[0m\u001b[1;33m,\u001b[0m \u001b[1;36m4\u001b[0m\u001b[1;33m)\u001b[0m\u001b[1;33m\u001b[0m\u001b[1;33m\u001b[0m\u001b[0m\n\u001b[0m",
      "\u001b[1;31mValueError\u001b[0m: cannot reshape array of size 10 into shape (4)"
     ]
    }
   ],
   "source": [
    "# -1을 적용하여도 변환이 불가능한 형태로의 변환을 요구할 경우 오류 발생\n",
    "array1 = np.arange(10)\n",
    "array4 = array1.reshape(-1, 4)"
   ]
  },
  {
   "cell_type": "code",
   "execution_count": 37,
   "metadata": {},
   "outputs": [
    {
     "ename": "ValueError",
     "evalue": "can only specify one unknown dimension",
     "output_type": "error",
     "traceback": [
      "\u001b[1;31m---------------------------------------------------------------------------\u001b[0m",
      "\u001b[1;31mValueError\u001b[0m                                Traceback (most recent call last)",
      "\u001b[1;32m<ipython-input-37-a11304bf3e5c>\u001b[0m in \u001b[0;36m<module>\u001b[1;34m\u001b[0m\n\u001b[0;32m      1\u001b[0m \u001b[1;31m# 반드시 -1의 값은 1개의 인자만 입력해야 함\u001b[0m\u001b[1;33m\u001b[0m\u001b[1;33m\u001b[0m\u001b[1;33m\u001b[0m\u001b[0m\n\u001b[1;32m----> 2\u001b[1;33m \u001b[0marray1\u001b[0m\u001b[1;33m.\u001b[0m\u001b[0mreshape\u001b[0m\u001b[1;33m(\u001b[0m\u001b[1;33m-\u001b[0m\u001b[1;36m1\u001b[0m\u001b[1;33m,\u001b[0m \u001b[1;33m-\u001b[0m\u001b[1;36m1\u001b[0m\u001b[1;33m)\u001b[0m\u001b[1;33m\u001b[0m\u001b[1;33m\u001b[0m\u001b[0m\n\u001b[0m",
      "\u001b[1;31mValueError\u001b[0m: can only specify one unknown dimension"
     ]
    }
   ],
   "source": [
    "# 반드시 -1의 값은 1개의 인자만 입력해야 함\n",
    "array1.reshape(-1, -1)"
   ]
  },
  {
   "cell_type": "markdown",
   "metadata": {},
   "source": [
    "## ndarray - 인덱싱(indexing)"
   ]
  },
  {
   "cell_type": "code",
   "execution_count": 38,
   "metadata": {},
   "outputs": [
    {
     "name": "stdout",
     "output_type": "stream",
     "text": [
      "array1: [ 5 10 18 30 45 50 60 65 70 80]\n",
      "array1[2]: 18\n",
      "<class 'numpy.int32'>\n"
     ]
    }
   ],
   "source": [
    "array1 = np.array([5, 10, 18, 30, 45, 50, 60, 65, 70, 80])\n",
    "print(\"array1:\", array1)\n",
    "\n",
    "# index는 -부터 시작하므로 array1[2]는 3번째 위치의 데이터 값을 의미\n",
    "print(\"array1[2]:\", array1[2])\n",
    "print(type(array1[2]))"
   ]
  },
  {
   "cell_type": "code",
   "execution_count": 39,
   "metadata": {},
   "outputs": [
    {
     "name": "stdout",
     "output_type": "stream",
     "text": [
      "array1[-1]: 80\n",
      "array1[-2] 70\n"
     ]
    }
   ],
   "source": [
    "print(\"array1[-1]:\", array1[-1])\n",
    "print(\"array1[-2]\", array1[-2])"
   ]
  },
  {
   "cell_type": "code",
   "execution_count": 40,
   "metadata": {},
   "outputs": [
    {
     "name": "stdout",
     "output_type": "stream",
     "text": [
      "array1: [ 4  0 18 30 45 50 60 65 70 80]\n"
     ]
    }
   ],
   "source": [
    "array1[0]=4\n",
    "array1[1]=0\n",
    "print('array1:', array1)"
   ]
  },
  {
   "cell_type": "code",
   "execution_count": 43,
   "metadata": {},
   "outputs": [
    {
     "name": "stdout",
     "output_type": "stream",
     "text": [
      "[[1 2 3]\n",
      " [4 5 6]\n",
      " [7 8 9]]\n",
      "(row=0, col=0) 값: 1\n",
      "(row=0, col=1) 값: 2\n",
      "(row=1, col=2) 값: 6\n",
      "(row=2, col=1) 값: 8\n",
      "(row=2, col=2) 값: 9\n"
     ]
    }
   ],
   "source": [
    "array1 = np.arange(start=1, stop=10)\n",
    "array2 = array1.reshape(3, 3)\n",
    "print(array2)\n",
    "\n",
    "print(\"(row=0, col=0) 값:\", array2[0, 0])\n",
    "print(\"(row=0, col=1) 값:\", array2[0, 1])\n",
    "print(\"(row=1, col=2) 값:\", array2[1, 2])\n",
    "print(\"(row=2, col=1) 값:\", array2[2, 1])\n",
    "print(\"(row=2, col=2) 값:\", array2[2, 2])"
   ]
  },
  {
   "cell_type": "markdown",
   "metadata": {},
   "source": [
    "### 슬라이싱(slicing)"
   ]
  },
  {
   "cell_type": "code",
   "execution_count": 44,
   "metadata": {},
   "outputs": [
    {
     "name": "stdout",
     "output_type": "stream",
     "text": [
      "[ 5 10 18 30 45 50 60 65 70 80]\n",
      "[ 5 10 18 30]\n",
      "<class 'numpy.ndarray'>\n"
     ]
    }
   ],
   "source": [
    "array1 = np.array([5, 10, 18, 30, 45, 50, 60, 65, 70, 80])\n",
    "print(array1)\n",
    "array2 = array1[0:4]\n",
    "print(array2)\n",
    "print(type(array2))"
   ]
  },
  {
   "cell_type": "code",
   "execution_count": 46,
   "metadata": {},
   "outputs": [
    {
     "name": "stdout",
     "output_type": "stream",
     "text": [
      "[10 18 30]\n",
      "[45 50 60 65 70 80]\n",
      "[ 5 10 18 30 45 50 60 65 70 80]\n"
     ]
    }
   ],
   "source": [
    "array3 = array1[1:4]\n",
    "print(array3)\n",
    "\n",
    "array4 = array1[4:]\n",
    "print(array4)\n",
    "\n",
    "array5 = array1[:]\n",
    "print(array5)"
   ]
  },
  {
   "cell_type": "code",
   "execution_count": 47,
   "metadata": {},
   "outputs": [
    {
     "name": "stdout",
     "output_type": "stream",
     "text": [
      "array2:\n",
      " [[1 2 3]\n",
      " [4 5 6]\n",
      " [7 8 9]]\n",
      "array2d[0:2, 0:2] \n",
      " [[1 2]\n",
      " [4 5]]\n",
      "array2d[1:3, 0:3] \n",
      " [[4 5 6]\n",
      " [7 8 9]]\n",
      "array2d[1:3, :] \n",
      " [[4 5 6]\n",
      " [7 8 9]]\n",
      "array2d[:, :] \n",
      " [[1 2 3]\n",
      " [4 5 6]\n",
      " [7 8 9]]\n",
      "array2d[:2, 1:] \n",
      " [[2 3]\n",
      " [5 6]]\n",
      "array2d[:2, 1] \n",
      " [2 5]\n"
     ]
    }
   ],
   "source": [
    "array1 = np.arange(start=1, stop=10)\n",
    "array2 = array1.reshape(3, 3)\n",
    "print(\"array2:\\n\", array2)\n",
    "\n",
    "print(\"array2d[0:2, 0:2] \\n\", array2[0:2, 0:2])\n",
    "print(\"array2d[1:3, 0:3] \\n\", array2[1:3, 0:3])\n",
    "print(\"array2d[1:3, :] \\n\", array2[1:3, :])\n",
    "print(\"array2d[:, :] \\n\", array2[:, :])\n",
    "print(\"array2d[:2, 1:] \\n\", array2[:2, 1:])\n",
    "print(\"array2d[:2, 1] \\n\", array2[:2, 1])"
   ]
  },
  {
   "cell_type": "markdown",
   "metadata": {},
   "source": [
    "### 팬시 인덱싱(Fancy indexing)"
   ]
  },
  {
   "cell_type": "code",
   "execution_count": 50,
   "metadata": {},
   "outputs": [
    {
     "name": "stdout",
     "output_type": "stream",
     "text": [
      "array1[[3, 5, 8]] \n",
      " [30 50 70]\n"
     ]
    }
   ],
   "source": [
    "array1 = np.array([5, 10, 18, 30, 45, 50, 60, 65, 70, 80])\n",
    "print(\"array1[[3, 5, 8]] \\n\", array1[[3, 5, 8]])"
   ]
  },
  {
   "cell_type": "code",
   "execution_count": 51,
   "metadata": {},
   "outputs": [
    {
     "name": "stdout",
     "output_type": "stream",
     "text": [
      "array2 \n",
      " [[1 2 3]\n",
      " [4 5 6]\n",
      " [7 8 9]]\n",
      "array2[[0, 2], 1] \n",
      " [2 8]\n",
      "array2[[0, 2], 1:3] \n",
      " [[2 3]\n",
      " [8 9]]\n",
      "array2[[0, 2]] \n",
      " [[1 2 3]\n",
      " [7 8 9]]\n"
     ]
    }
   ],
   "source": [
    "array1 = np.arange(start=1, stop=10)\n",
    "array2 = array1.reshape(3, 3)\n",
    "print(\"array2 \\n\", array2)\n",
    "\n",
    "array3 = array2[[0, 2], 1]\n",
    "print(\"array2[[0, 2], 1] \\n\", array3)\n",
    "\n",
    "array4 = array2[[0, 2], 1:3]\n",
    "print(\"array2[[0, 2], 1:3] \\n\", array4)\n",
    "\n",
    "array5 = array2[[0, 2]]\n",
    "print(\"array2[[0, 2]] \\n\", array5)"
   ]
  },
  {
   "cell_type": "markdown",
   "metadata": {},
   "source": [
    "### 불린 인덱싱(Boolean indexing)"
   ]
  },
  {
   "cell_type": "code",
   "execution_count": 52,
   "metadata": {},
   "outputs": [
    {
     "name": "stdout",
     "output_type": "stream",
     "text": [
      "[1 2 3 4 5 6 7 8 9]\n"
     ]
    }
   ],
   "source": [
    "array1 = np.arange(start=1, stop=10)\n",
    "print(array1)"
   ]
  },
  {
   "cell_type": "code",
   "execution_count": 53,
   "metadata": {},
   "outputs": [
    {
     "name": "stdout",
     "output_type": "stream",
     "text": [
      "var1: [False False False False False  True  True  True  True]\n",
      "<class 'numpy.ndarray'>\n"
     ]
    }
   ],
   "source": [
    "var1 = array1 > 5\n",
    "print(\"var1:\", var1)\n",
    "print(type(var1))"
   ]
  },
  {
   "cell_type": "code",
   "execution_count": 61,
   "metadata": {},
   "outputs": [
    {
     "name": "stdout",
     "output_type": "stream",
     "text": [
      "[1 2 3 4 5 6 7 8 9]\n",
      "array1d > 5 불린 인덱싱 결과 값 : [6 7 8 9]\n"
     ]
    }
   ],
   "source": [
    "# [ ]안에 array1d > 5  Boolean indexing을 적용\n",
    "print(array1)\n",
    "array2 = array1[array1 > 5]\n",
    "print(\"array1d > 5 불린 인덱싱 결과 값 :\", array2)"
   ]
  },
  {
   "cell_type": "code",
   "execution_count": 60,
   "metadata": {},
   "outputs": [
    {
     "name": "stdout",
     "output_type": "stream",
     "text": [
      "불린 인덱스로 필터링 결과 : [6 7 8 9]\n"
     ]
    }
   ],
   "source": [
    "bindexes = np.array([False, False, False, False, False, True, True, True, True])\n",
    "array3 = array1[bindexes]\n",
    "print(\"불린 인덱스로 필터링 결과 :\", array3)"
   ]
  },
  {
   "cell_type": "code",
   "execution_count": 59,
   "metadata": {},
   "outputs": [
    {
     "name": "stdout",
     "output_type": "stream",
     "text": [
      "일반 인덱스로 필터일 결과 : [6 7 8 9]\n"
     ]
    }
   ],
   "source": [
    "indexes = np.array([5, 6, 7, 8])\n",
    "array4 = array1[indexes]\n",
    "print(\"일반 인덱스로 필터일 결과 :\", array4)"
   ]
  },
  {
   "cell_type": "code",
   "execution_count": 62,
   "metadata": {},
   "outputs": [
    {
     "name": "stdout",
     "output_type": "stream",
     "text": [
      "[6 7 8 9]\n"
     ]
    }
   ],
   "source": [
    "array1d = np.arange(start=1, stop=10)\n",
    "target = []\n",
    "\n",
    "for i in range(0, 9) :\n",
    "    if array1d[i]>5:\n",
    "        target.append(array1d[i])\n",
    "        \n",
    "array_selected = np.array(target)\n",
    "print(array_selected)"
   ]
  },
  {
   "cell_type": "code",
   "execution_count": 63,
   "metadata": {},
   "outputs": [
    {
     "name": "stdout",
     "output_type": "stream",
     "text": [
      "[6 7 8 9]\n"
     ]
    }
   ],
   "source": [
    "print(array1d[array1d > 5])"
   ]
  },
  {
   "cell_type": "markdown",
   "metadata": {},
   "source": [
    "## 배열의 정렬 - sort()와 argsort()\n",
    "### 행렬 정렬"
   ]
  },
  {
   "cell_type": "code",
   "execution_count": 65,
   "metadata": {},
   "outputs": [
    {
     "name": "stdout",
     "output_type": "stream",
     "text": [
      "원본 행렬: [3 1 9 5]\n",
      "np.sort() 호출 후 반환된 정렬 행렬: [1 3 5 9]\n",
      "np.sort() 호출 후 원본 행렬: [3 1 9 5]\n",
      "org_array.sort() 호출 후 원본 행렬: [1 3 5 9]\n"
     ]
    }
   ],
   "source": [
    "org_array = np.array([3, 1, 9, 5])\n",
    "print(\"원본 행렬:\", org_array)\n",
    "\n",
    "# np.sort()로 정렬\n",
    "sort_array1 = np.sort(org_array)\n",
    "print(\"np.sort() 호출 후 반환된 정렬 행렬:\", sort_array1)\n",
    "print(\"np.sort() 호출 후 원본 행렬:\", org_array)\n",
    "\n",
    "# ndarray.sort()로 정렬\n",
    "org_array.sort()\n",
    "print(\"org_array.sort() 호출 후 원본 행렬:\", org_array)"
   ]
  },
  {
   "cell_type": "code",
   "execution_count": 66,
   "metadata": {},
   "outputs": [
    {
     "name": "stdout",
     "output_type": "stream",
     "text": [
      "[6 5 4 3 2 1 0]\n"
     ]
    }
   ],
   "source": [
    "array1 = np.array([4, 2, 6, 5, 1, 3, 0])\n",
    "reverse1 = np.sort(array1)[::-1]\n",
    "print(reverse1)"
   ]
  },
  {
   "cell_type": "code",
   "execution_count": 67,
   "metadata": {},
   "outputs": [
    {
     "name": "stdout",
     "output_type": "stream",
     "text": [
      "[6 5 4 3 2 1 0]\n"
     ]
    }
   ],
   "source": [
    "array1 = np.array([4, 2, 6, 5, 1, 3, 0])\n",
    "reverse2 = array1[np.argsort(-array1)]\n",
    "print(reverse2)"
   ]
  },
  {
   "cell_type": "code",
   "execution_count": 69,
   "metadata": {},
   "outputs": [
    {
     "name": "stdout",
     "output_type": "stream",
     "text": [
      "axis0 방향으로 정렬: [[ 7  1]\n",
      " [ 8 12]]\n",
      "axis1 방향으로 정렬: [[ 8 12]\n",
      " [ 1  7]]\n"
     ]
    }
   ],
   "source": [
    "array2 = np.array([[8, 12],\n",
    "                   [7, 1]])\n",
    "\n",
    "sort_array2_axis0 = np.sort(array2, axis=0)\n",
    "print(\"axis0 방향으로 정렬:\", sort_array2_axis0)\n",
    "\n",
    "sort_array2_axis1 = np.sort(array2, axis=1)\n",
    "print(\"axis1 방향으로 정렬:\", sort_array2_axis1)"
   ]
  },
  {
   "cell_type": "markdown",
   "metadata": {},
   "source": [
    "## argsort()"
   ]
  },
  {
   "cell_type": "code",
   "execution_count": 70,
   "metadata": {},
   "outputs": [
    {
     "name": "stdout",
     "output_type": "stream",
     "text": [
      "[1 3 5 9]\n",
      "<class 'numpy.ndarray'>\n",
      "행렬 정렬 시 원본 행렬의 인덱스: [1 0 3 2]\n",
      "[3 1 9 5]\n"
     ]
    }
   ],
   "source": [
    "org_array = np.array([3, 1, 9, 5])\n",
    "print(np.sort(org_array))\n",
    "\n",
    "sort_indices = np.argsort(org_array)\n",
    "print(type(sort_indices))\n",
    "print(\"행렬 정렬 시 원본 행렬의 인덱스:\", sort_indices)\n",
    "print(org_array)"
   ]
  },
  {
   "cell_type": "code",
   "execution_count": 71,
   "metadata": {},
   "outputs": [
    {
     "name": "stdout",
     "output_type": "stream",
     "text": [
      "[9 5 3 1]\n",
      "행렬 내림차순 정렬 시 원본 행렬의 인덱스: [2 3 0 1]\n",
      "[3 1 9 5]\n",
      "[9 5 3 1]\n"
     ]
    }
   ],
   "source": [
    "org_array = np.array([3, 1, 9, 5])\n",
    "print(np.sort(org_array)[::-1])\n",
    "\n",
    "sort_indices_desc = np.argsort(org_array)[::-1]\n",
    "print(\"행렬 내림차순 정렬 시 원본 행렬의 인덱스:\", sort_indices_desc)\n",
    "print(org_array)\n",
    "print(org_array[sort_indices_desc])"
   ]
  },
  {
   "cell_type": "markdown",
   "metadata": {},
   "source": [
    "### key-value 형태의 데이터를 John=78, Mike=95, Sarah=84, Kate=98, Samuel=88을 ndarray로 만들고 argsort()를 이용하여 key 값을 정렬"
   ]
  },
  {
   "cell_type": "code",
   "execution_count": 75,
   "metadata": {},
   "outputs": [
    {
     "name": "stdout",
     "output_type": "stream",
     "text": [
      "sort indices: [0 2 4 1 3]\n",
      "['John' 'Sarah' 'Samuel' 'Mike' 'Kate']\n",
      "[78 84 88 95 98]\n"
     ]
    }
   ],
   "source": [
    "name_array = np.array([\"John\", \"Mike\", \"Sarah\", \"Kate\", \"Samuel\"])\n",
    "score_array = np.array([78, 95, 84, 98, 88])\n",
    "\n",
    "# score_array은 정렬된 값에 해당하는 원본 행렬 위치 인덱스 변환하고 이를 이용하여 name_array에서 name값 추출\n",
    "sort_indices = np.argsort(score_array)\n",
    "print(\"sort indices:\", sort_indices)\n",
    "\n",
    "name_array_sort = name_array[sort_indices]\n",
    "\n",
    "score_array_sort = score_array[sort_indices]\n",
    "print(name_array_sort)\n",
    "print(score_array_sort)"
   ]
  },
  {
   "cell_type": "markdown",
   "metadata": {},
   "source": [
    "## Numpy 응용"
   ]
  },
  {
   "cell_type": "markdown",
   "metadata": {},
   "source": [
    "### 선형대수 연산 - 행렬 내적과 전치 행렬 구하기"
   ]
  },
  {
   "cell_type": "code",
   "execution_count": 77,
   "metadata": {},
   "outputs": [
    {
     "name": "stdout",
     "output_type": "stream",
     "text": [
      "행렬 내적 결과:\n",
      " [[ 58  64]\n",
      " [139 154]]\n"
     ]
    }
   ],
   "source": [
    "A = np.array([[1, 2, 3], \n",
    "              [4, 5, 6]])\n",
    "B = np.array([[7, 8],\n",
    "              [9, 10],\n",
    "              [11, 12]])\n",
    "\n",
    "dot_product = np.dot(A, B)\n",
    "print(\"행렬 내적 결과:\\n\", dot_product)"
   ]
  },
  {
   "cell_type": "markdown",
   "metadata": {},
   "source": [
    "### 전치행렬"
   ]
  },
  {
   "cell_type": "code",
   "execution_count": 79,
   "metadata": {},
   "outputs": [
    {
     "name": "stdout",
     "output_type": "stream",
     "text": [
      "A의 전치 행렬:\n",
      " [[1 3]\n",
      " [2 4]]\n"
     ]
    }
   ],
   "source": [
    "A = np.array([[1, 2],\n",
    "              [3, 4]])\n",
    "transpose_mat=np.transpose(A)\n",
    "print(\"A의 전치 행렬:\\n\", transpose_mat)"
   ]
  },
  {
   "cell_type": "markdown",
   "metadata": {},
   "source": [
    "### 벡터화 연산"
   ]
  },
  {
   "cell_type": "code",
   "execution_count": 81,
   "metadata": {},
   "outputs": [
    {
     "name": "stdout",
     "output_type": "stream",
     "text": [
      "[25.3 24.8 26.9 23.9]\n",
      "<class 'numpy.ndarray'> [77.54 76.64 80.42 75.02]\n",
      "<class 'list'> [77.54, 76.64, 80.42, 75.02]\n"
     ]
    }
   ],
   "source": [
    "cvalues = [25.3, 24.8, 26.9, 23.9]\n",
    "# 섭씨 ndarry 생성\n",
    "C = np.array(cvalues)\n",
    "print(C)\n",
    "F = C * 9 / 5 + 32\n",
    "print(type(F), F)\n",
    "\n",
    "# 기존 방식, 리스트 컴프리핸션도 loop문 실행\n",
    "F1 = [x*9/5 + 32 for x in cvalues]\n",
    "print(type(F1), F1)"
   ]
  },
  {
   "cell_type": "markdown",
   "metadata": {},
   "source": [
    "### list와 ndarray 계산 성능"
   ]
  },
  {
   "cell_type": "code",
   "execution_count": 83,
   "metadata": {},
   "outputs": [
    {
     "name": "stdout",
     "output_type": "stream",
     "text": [
      "time :  2.2742791175842285\n"
     ]
    }
   ],
   "source": [
    "#list를 이용한 계산 성능\n",
    "import time\n",
    "size_of_vec = 10000000\n",
    "\n",
    "X = list(range(size_of_vec))\n",
    "Y = list(range(size_of_vec))\n",
    "Z = list(range(size_of_vec))\n",
    "\n",
    "start = time.time()\n",
    "for i in range(len(X)) :\n",
    "    Z[i] = X[i]+Y[i]\n",
    "    \n",
    "# 현재시각 - 시작시간 => 실행시간\n",
    "print(\"time : \", time.time()-start)"
   ]
  },
  {
   "cell_type": "code",
   "execution_count": 85,
   "metadata": {},
   "outputs": [
    {
     "name": "stdout",
     "output_type": "stream",
     "text": [
      "time :  0.011009931564331055\n"
     ]
    }
   ],
   "source": [
    "# ndarray와 벡터화 연산을 이용한 계산 성능\n",
    "import numpy as np\n",
    "import time\n",
    "size_of_vec = 10000000\n",
    "\n",
    "X = np.arange(size_of_vec)\n",
    "Y = np.arange(size_of_vec)\n",
    "\n",
    "start = time.time()\n",
    "Z = X + Y\n",
    "\n",
    "# 현재시각 - 시작시간 => 실행시간\n",
    "print(\"time : \", time.time()-start)"
   ]
  },
  {
   "cell_type": "code",
   "execution_count": 86,
   "metadata": {},
   "outputs": [
    {
     "name": "stdout",
     "output_type": "stream",
     "text": [
      "time :  5.701920509338379\n"
     ]
    }
   ],
   "source": [
    "# ndarray에서 벡터화 연산을 이용하지 않을 경우의 계산 성능\n",
    "import numpy as np\n",
    "import time\n",
    "size_of_vec = 10000000\n",
    "\n",
    "start = time.time()\n",
    "for i in range(len(X)) :\n",
    "    Z[i] = X[i]+Y[i]\n",
    "\n",
    "# 현재시각 - 시작시간 => 실행시간\n",
    "print(\"time : \", time.time()-start)"
   ]
  },
  {
   "cell_type": "code",
   "execution_count": null,
   "metadata": {},
   "outputs": [],
   "source": []
  }
 ],
 "metadata": {
  "kernelspec": {
   "display_name": "Python 3",
   "language": "python",
   "name": "python3"
  },
  "language_info": {
   "codemirror_mode": {
    "name": "ipython",
    "version": 3
   },
   "file_extension": ".py",
   "mimetype": "text/x-python",
   "name": "python",
   "nbconvert_exporter": "python",
   "pygments_lexer": "ipython3",
   "version": "3.8.5"
  }
 },
 "nbformat": 4,
 "nbformat_minor": 4
}
