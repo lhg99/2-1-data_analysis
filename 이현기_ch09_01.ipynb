{
 "cells": [
  {
   "cell_type": "code",
   "execution_count": 2,
   "metadata": {},
   "outputs": [
    {
     "name": "stdout",
     "output_type": "stream",
     "text": [
      "100과 200의 더한 결과는 300\n"
     ]
    }
   ],
   "source": [
    "v1 = 100\n",
    "v2 = 200\n",
    "\n",
    "result = v1 + v2\n",
    "\n",
    "print(\"100과 200의 더한 결과는 %d\" % result)"
   ]
  },
  {
   "cell_type": "code",
   "execution_count": 3,
   "metadata": {},
   "outputs": [
    {
     "name": "stdout",
     "output_type": "stream",
     "text": [
      "100과 200의 plus() 함수 결과는 300\n"
     ]
    }
   ],
   "source": [
    "# 1. 함수명 2. 입력(전달할 값(인수), 매개변수),\n",
    "# 3. 처리(어떤일을 할것인가?), 4. 리턴할 결과\n",
    "\n",
    "def plus(v1, v2) :\n",
    "    result = 0\n",
    "    result = v1 + v2\n",
    "    return result\n",
    "\n",
    "hap = 0\n",
    "hap = plus(100, 200)\n",
    "\n",
    "print(\"100과 200의 plus() 함수 결과는 %d\" % hap)"
   ]
  },
  {
   "cell_type": "code",
   "execution_count": 4,
   "metadata": {},
   "outputs": [
    {
     "name": "stdout",
     "output_type": "stream",
     "text": [
      "100과 200의 plus() 함수 결과는 300\n"
     ]
    }
   ],
   "source": [
    "# 1. 함수명 2. 입력(전달할 값(인수), 매개변수),\n",
    "# 3. 처리(어떤일을 할것인가?), 4. 리턴할 결과\n",
    "\n",
    "def plus(num1, num2) :\n",
    "    return num1 + num2\n",
    "\n",
    "hap = plus(100, 200)\n",
    "print(\"100과 200의 plus() 함수 결과는 %d\" % hap)\n"
   ]
  },
  {
   "cell_type": "markdown",
   "metadata": {},
   "source": [
    "# calc"
   ]
  },
  {
   "cell_type": "code",
   "execution_count": 13,
   "metadata": {},
   "outputs": [
    {
     "name": "stdout",
     "output_type": "stream",
     "text": [
      "첫 번째 수를 입력하세요 : 10\n",
      "계산을 입력하세요(+,-,*,/):/\n",
      "두 번째 수를 입력하세요 : 0\n",
      "0으로 나눌 수 없습니다. ㅠㅠ\n"
     ]
    }
   ],
   "source": [
    "# 1. 함수명\n",
    "# 2. 입력\n",
    "# 3. 처리\n",
    "# 4. 리턴값\n",
    "def clac(v1, v2, op) :\n",
    "    result = 0\n",
    "    \n",
    "    if op == \"+\":\n",
    "        result = v1 + v2\n",
    "    elif op == \"-\" :\n",
    "        result = v1 - v2\n",
    "    elif op == \"*\" :\n",
    "        result = v1 * v2\n",
    "    elif op == \"**\" :\n",
    "        result = v1 ** v2\n",
    "    elif op == \"/\" :\n",
    "        if v2 == 0 :\n",
    "            result = \"0으로 나눌 수 없습니다. ㅠㅠ\"\n",
    "        else :\n",
    "            result = v1 / v2\n",
    "    else :\n",
    "        result = \"연산자가 잘못되었습니다.\"\n",
    "        \n",
    "    return result\n",
    "\n",
    "res = 0\n",
    "var1, var2, oper = 0, 0, \"\"\n",
    "\n",
    "var1 = int(input(\"첫 번째 수를 입력하세요 : \"))\n",
    "oper = input(\"계산을 입력하세요(+,-,*,/):\")\n",
    "var2 = int(input(\"두 번째 수를 입력하세요 : \"))\n",
    "\n",
    "res = clac(var1, var2, oper)\n",
    "\n",
    "#res의 타입을 검사\n",
    "if (str(type(res))==\"<class 'str'>\") :\n",
    "    print(res)\n",
    "else :\n",
    "    print(\"## 계산기 : %d %s %d = %d\"%(var1, oper, var2, res))"
   ]
  },
  {
   "cell_type": "markdown",
   "metadata": {},
   "source": [
    "# LocalGlobal"
   ]
  },
  {
   "cell_type": "code",
   "execution_count": 16,
   "metadata": {},
   "outputs": [
    {
     "name": "stdout",
     "output_type": "stream",
     "text": [
      "함수 실행 전 : 메인 코드 부분의 a의 값 : 20, a의 id : 140722359904640\n",
      "func1()의 a값 10, a의 id : 140722359904320\n",
      "func(1) 실행 후 : 메인코드 부분의 a의 값 : 10, a의 id : 140722359904320\n",
      "func2()의 a 값 10, a의 id : 140722359904320\n",
      "func(2) 실행 후 : 메인코드 부분의 a의 값 : 10, a의 id : 140722359904320\n"
     ]
    }
   ],
   "source": [
    "## 함수 선언 부분 ##\n",
    "def func1() :\n",
    "    global a\n",
    "    a = 10\n",
    "    print(\"func1()의 a값 %d, a의 id : %d\" % (a, id(a)))\n",
    "    \n",
    "def func2() :\n",
    "    print(\"func2()의 a 값 %d, a의 id : %d\" % (a, id(a)))\n",
    "    \n",
    "## 전역 변수 선언 부분 ##\n",
    "a = 20 # 전역변수\n",
    "\n",
    "## 메인 코드 부분 ##\n",
    "print(\"함수 실행 전 : 메인 코드 부분의 a의 값 : %d, a의 id : %d\" % (a, id(a)))\n",
    "func1()\n",
    "print(\"func(1) 실행 후 : 메인코드 부분의 a의 값 : %d, a의 id : %d\" % (a, id(a)))\n",
    "func2()\n",
    "print(\"func(2) 실행 후 : 메인코드 부분의 a의 값 : %d, a의 id : %d\" % (a, id(a)))"
   ]
  },
  {
   "cell_type": "code",
   "execution_count": null,
   "metadata": {},
   "outputs": [],
   "source": []
  }
 ],
 "metadata": {
  "kernelspec": {
   "display_name": "Python 3",
   "language": "python",
   "name": "python3"
  },
  "language_info": {
   "codemirror_mode": {
    "name": "ipython",
    "version": 3
   },
   "file_extension": ".py",
   "mimetype": "text/x-python",
   "name": "python",
   "nbconvert_exporter": "python",
   "pygments_lexer": "ipython3",
   "version": "3.8.5"
  }
 },
 "nbformat": 4,
 "nbformat_minor": 4
}
