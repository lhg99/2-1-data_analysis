{
 "cells": [
  {
   "cell_type": "markdown",
   "metadata": {},
   "source": [
    "# 수화물 비용 계산"
   ]
  },
  {
   "cell_type": "code",
   "execution_count": null,
   "metadata": {
    "scrolled": false
   },
   "outputs": [],
   "source": [
    "weight = float(input(\"짐의 무게는 얼마입니까? \"))\n",
    "\n",
    "if weight>20:\n",
    "    print(\"무거운 짐은 20,000원을 내셔야 합니다.\")\n",
    "else:\n",
    "    print(\"짐에 대한 수수료는 없습니다.\")\n",
    "print(\"감사합니다.\")"
   ]
  },
  {
   "cell_type": "markdown",
   "metadata": {},
   "source": [
    "# 홀수 짝수 구별하기"
   ]
  },
  {
   "cell_type": "code",
   "execution_count": null,
   "metadata": {
    "scrolled": true
   },
   "outputs": [],
   "source": [
    "number = int(input(\"정수를 입력하시오 : \"))\n",
    "if (number % 2)==0:\n",
    "    result = \"짝수\"\n",
    "else:\n",
    "    result = \"홀수\"\n",
    "print(\"입력된 정수는 %s입니다.\" % result)"
   ]
  },
  {
   "cell_type": "markdown",
   "metadata": {},
   "source": [
    "# 두 수 중 큰 수 출력"
   ]
  },
  {
   "cell_type": "code",
   "execution_count": null,
   "metadata": {},
   "outputs": [],
   "source": [
    "num1 = int(input(\"첫 번째 정수 : \"))\n",
    "num2 = int(input(\"두 번째 정수 : \"))\n",
    "\n",
    "if num1 > num2:\n",
    "    max = num1\n",
    "else:\n",
    "    max = num2\n",
    "print(\"큰 수는 \", max)"
   ]
  },
  {
   "cell_type": "markdown",
   "metadata": {},
   "source": [
    "# 물건값 계산"
   ]
  },
  {
   "cell_type": "code",
   "execution_count": null,
   "metadata": {},
   "outputs": [],
   "source": [
    "total = int(input(\"구입 금액을 입력하시오 : \"))\n",
    "sales = total\n",
    "if total > 100000 :\n",
    "    discount = total*0.05\n",
    "    sales = total-discount\n",
    "print(\"지불금액은\", sales, \"입니다.\")"
   ]
  },
  {
   "cell_type": "markdown",
   "metadata": {},
   "source": [
    "# 졸업 학점 검사하기"
   ]
  },
  {
   "cell_type": "code",
   "execution_count": null,
   "metadata": {},
   "outputs": [],
   "source": [
    "credits = int(input(\"이수한 학점 수를 입력하시오.\"))\n",
    "gpa = float(input(\"평점을 입력하시오.\"))\n",
    "if credits >= 140 and gpa >= 2.0 :\n",
    "    print(\"졸업이 가능합니다.\")\n",
    "else :\n",
    "    print(\"졸업이 어렵습니다.\")"
   ]
  },
  {
   "cell_type": "markdown",
   "metadata": {},
   "source": [
    "# 음수, 0, 양수 구별하기"
   ]
  },
  {
   "cell_type": "code",
   "execution_count": null,
   "metadata": {},
   "outputs": [],
   "source": [
    "num = int(input(\"정수를 입력하시오.\"))\n",
    "if num >= 0 :\n",
    "    if num == 0 :\n",
    "        print(\"0입니다.\")\n",
    "    else:\n",
    "        print(\"양수입니다.\")\n",
    "else:\n",
    "    print(\"음수입니다.\")\n"
   ]
  },
  {
   "cell_type": "markdown",
   "metadata": {},
   "source": [
    "# 달의 일수"
   ]
  },
  {
   "cell_type": "code",
   "execution_count": null,
   "metadata": {},
   "outputs": [],
   "source": [
    "month=int(input(\"월을 입력하시오.\"))\n",
    "if month == 2 :\n",
    "    print(\"월의 날수는 28일 또는 29일 입니다.\")\n",
    "elif month == 4 or month == 6 or month == 9 or month == 11 :\n",
    "    print(\"월의 날수는 31일 입니다.\")\n",
    "else:\n",
    "    print(\"월의 날수는 30일 입니다.\")"
   ]
  },
  {
   "cell_type": "markdown",
   "metadata": {},
   "source": [
    "# 윤년 판단"
   ]
  },
  {
   "cell_type": "code",
   "execution_count": 1,
   "metadata": {},
   "outputs": [
    {
     "name": "stdout",
     "output_type": "stream",
     "text": [
      "연도를 입력하시오.2020\n",
      "2020 년은 윤년입니다.\n"
     ]
    }
   ],
   "source": [
    "year = int(input(\"연도를 입력하시오.\"))\n",
    "if (year % 4 == 0 and year % 100 != 0) or (year % 400 == 0) :\n",
    "    print(year, \"년은 윤년입니다.\")\n",
    "else :\n",
    "    print(year, \"년은 윤년이 아닙니다.\")"
   ]
  },
  {
   "cell_type": "code",
   "execution_count": null,
   "metadata": {},
   "outputs": [],
   "source": []
  }
 ],
 "metadata": {
  "kernelspec": {
   "display_name": "Python 3",
   "language": "python",
   "name": "python3"
  },
  "language_info": {
   "codemirror_mode": {
    "name": "ipython",
    "version": 3
   },
   "file_extension": ".py",
   "mimetype": "text/x-python",
   "name": "python",
   "nbconvert_exporter": "python",
   "pygments_lexer": "ipython3",
   "version": "3.8.5"
  }
 },
 "nbformat": 4,
 "nbformat_minor": 4
}
