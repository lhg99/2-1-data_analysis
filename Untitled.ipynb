{
 "cells": [
  {
   "cell_type": "code",
   "execution_count": 21,
   "metadata": {},
   "outputs": [
    {
     "name": "stdout",
     "output_type": "stream",
     "text": [
      "  ★★★★★★\n",
      "    ★★★★\n",
      "      ★★\n",
      "      ★★\n",
      "    ★★★★\n"
     ]
    }
   ],
   "source": [
    "i=0\n",
    "k=0\n",
    "\n",
    "while i < 5 :\n",
    "    if i < 3 :\n",
    "        k = 0\n",
    "        while k < i+1 :\n",
    "            print(\"  \", end=\"\")\n",
    "            k = k + 1\n",
    "        k = 0\n",
    "        while k < 6-(2*i) :\n",
    "            print(\"\\u2605\", end=\"\")\n",
    "            k = k + 1\n",
    "            \n",
    "    else :\n",
    "        k = 0\n",
    "        while k < 6-i :\n",
    "            print(\"  \", end=\"\")\n",
    "            k = k + 1\n",
    "        k = 0\n",
    "        while k < (2*i)-4 :\n",
    "            print(\"\\u2605\", end=\"\")\n",
    "            k = k + 1\n",
    "\n",
    "    print()\n",
    "    i = i + 1\n"
   ]
  },
  {
   "cell_type": "code",
   "execution_count": null,
   "metadata": {},
   "outputs": [],
   "source": []
  }
 ],
 "metadata": {
  "kernelspec": {
   "display_name": "Python 3",
   "language": "python",
   "name": "python3"
  },
  "language_info": {
   "codemirror_mode": {
    "name": "ipython",
    "version": 3
   },
   "file_extension": ".py",
   "mimetype": "text/x-python",
   "name": "python",
   "nbconvert_exporter": "python",
   "pygments_lexer": "ipython3",
   "version": "3.8.5"
  }
 },
 "nbformat": 4,
 "nbformat_minor": 4
}
