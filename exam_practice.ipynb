{
 "cells": [
  {
   "cell_type": "code",
   "execution_count": 11,
   "metadata": {},
   "outputs": [
    {
     "name": "stdout",
     "output_type": "stream",
     "text": [
      "★★★★★★★★★\n",
      "  ★★★★★★★\n",
      "    ★★★★★\n",
      "      ★★★\n",
      "        ★\n",
      "        ★\n",
      "      ★★★\n",
      "    ★★★★★\n",
      "  ★★★★★★★\n",
      "★★★★★★★★★\n"
     ]
    }
   ],
   "source": [
    "for i in range(1, 6, 1) :\n",
    "    for k in range(1, i, 1) :\n",
    "        print(\"  \", end=\"\")\n",
    "        \n",
    "    for k in range(1, 12-2*i, 1) :\n",
    "        print('\\u2605', end=\"\")\n",
    "    print()\n",
    "    \n",
    "for i in range(1, 6, 1) :\n",
    "    for k in range(1, 6-i, 1) :\n",
    "        print(\"  \", end=\"\")\n",
    "    for k in range(1, 2*i, 1) :\n",
    "        print('\\u2605', end=\"\")\n",
    "    print()"
   ]
  },
  {
   "cell_type": "markdown",
   "metadata": {},
   "source": [
    "# 구구단 출력"
   ]
  },
  {
   "cell_type": "code",
   "execution_count": 18,
   "metadata": {},
   "outputs": [
    {
     "name": "stdout",
     "output_type": "stream",
     "text": [
      "   2단     3단     4단     5단     6단     7단     8단     9단  \n",
      " 2* 9=18 3* 9=27 4* 9=36 5* 9=45 6* 9=54 7* 9=63 8* 9=72 9* 9=81\n",
      " 2* 8=16 3* 8=24 4* 8=32 5* 8=40 6* 8=48 7* 8=56 8* 8=64 9* 8=72\n",
      " 2* 7=14 3* 7=21 4* 7=28 5* 7=35 6* 7=42 7* 7=49 8* 7=56 9* 7=63\n",
      " 2* 6=12 3* 6=18 4* 6=24 5* 6=30 6* 6=36 7* 6=42 8* 6=48 9* 6=54\n",
      " 2* 5=10 3* 5=15 4* 5=20 5* 5=25 6* 5=30 7* 5=35 8* 5=40 9* 5=45\n",
      " 2* 4= 8 3* 4=12 4* 4=16 5* 4=20 6* 4=24 7* 4=28 8* 4=32 9* 4=36\n",
      " 2* 3= 6 3* 3= 9 4* 3=12 5* 3=15 6* 3=18 7* 3=21 8* 3=24 9* 3=27\n",
      " 2* 2= 4 3* 2= 6 4* 2= 8 5* 2=10 6* 2=12 7* 2=14 8* 2=16 9* 2=18\n",
      " 2* 1= 2 3* 1= 3 4* 1= 4 5* 1= 5 6* 1= 6 7* 1= 7 8* 1= 8 9* 1= 9\n"
     ]
    }
   ],
   "source": [
    "for i in range(2, 10, 1) :\n",
    "    print(\"  %2d단  \" %i, end=\"\")\n",
    "print()\n",
    "\n",
    "for i in range(9, 0, -1) :\n",
    "    for k in range(2, 10, 1) :\n",
    "        print(\"%2d*%2d=%2d\" %(k, i, i*k), end=\"\")\n",
    "    print()"
   ]
  },
  {
   "cell_type": "markdown",
   "metadata": {},
   "source": [
    "# 윤년판단"
   ]
  },
  {
   "cell_type": "code",
   "execution_count": 7,
   "metadata": {},
   "outputs": [
    {
     "name": "stdout",
     "output_type": "stream",
     "text": [
      "년도를 입력 : 2019\n",
      "윤년이 아닙니다.\n"
     ]
    }
   ],
   "source": [
    "year=int(input(\"년도를 입력 : \"))\n",
    "\n",
    "if (year%4==0) :\n",
    "    if(year%100==0) :\n",
    "        print(\"윤년이 아닙니다.\")\n",
    "    else :\n",
    "        print(\"윤년입니다.\")\n",
    "else :\n",
    "    print(\"윤년이 아닙니다.\")"
   ]
  },
  {
   "cell_type": "markdown",
   "metadata": {},
   "source": [
    "# self study"
   ]
  },
  {
   "cell_type": "code",
   "execution_count": 36,
   "metadata": {},
   "outputs": [
    {
     "name": "stdout",
     "output_type": "stream",
     "text": [
      "파#썬#완#재#있#요"
     ]
    }
   ],
   "source": [
    "sen='파이썬은완전재미있어요'\n",
    "lensen=len(sen)\n",
    "for i in range(0, lensen) :\n",
    "    if (i%2!=0) :\n",
    "        print('#', end=\"\")\n",
    "    else :\n",
    "        print(sen[i], end=\"\")\n",
    "        \n"
   ]
  },
  {
   "cell_type": "markdown",
   "metadata": {},
   "source": [
    "# money_exchange"
   ]
  },
  {
   "cell_type": "code",
   "execution_count": 10,
   "metadata": {},
   "outputs": [
    {
     "name": "stdout",
     "output_type": "stream",
     "text": [
      "교환할 돈을 입력 : 5483\n",
      "500원 : 10 개\n",
      "100원 : 4 개\n",
      "50원 : 1 개\n",
      "10원 : 3 개\n",
      "교환못한 잔돈 : 3 원\n"
     ]
    }
   ],
   "source": [
    "money = int(input(\"교환할 돈을 입력 : \"))\n",
    "\n",
    "change500 = money // 500\n",
    "total = money - 500 * change500\n",
    "change100 = total // 100\n",
    "total = total - 100 * change100\n",
    "change50 = total // 50\n",
    "total = total - 50 * change50\n",
    "change10 = total // 10\n",
    "total = total - 10 * change10\n",
    "\n",
    "print(\"500원 : %d 개\" %change500)\n",
    "print(\"100원 : %d 개\" %change100)\n",
    "print(\"50원 : %d 개\" %change50)\n",
    "print(\"10원 : %d 개\" %change10)\n",
    "print(\"교환못한 잔돈 : %d 원\" %total)"
   ]
  },
  {
   "cell_type": "markdown",
   "metadata": {},
   "source": [
    "# 별 모양"
   ]
  },
  {
   "cell_type": "code",
   "execution_count": null,
   "metadata": {},
   "outputs": [],
   "source": []
  },
  {
   "cell_type": "code",
   "execution_count": 1,
   "metadata": {},
   "outputs": [
    {
     "name": "stdout",
     "output_type": "stream",
     "text": [
      "        ★\n",
      "      ★★★\n",
      "    ★★★★★\n",
      "  ★★★★★★★\n",
      "★★★★★★★★★\n",
      "  ★★★★★★★\n",
      "    ★★★★★\n",
      "      ★★★\n",
      "        ★\n"
     ]
    }
   ],
   "source": [
    "i=0\n",
    "k=0\n",
    "\n",
    "while i < 9 :\n",
    "    if i < 5 :\n",
    "        k = 0\n",
    "        while k < 4-i :\n",
    "            print(\"  \", end=\"\")\n",
    "            k = k + 1\n",
    "        k = 0\n",
    "        while k < i*2+1 :\n",
    "            print(\"\\u2605\", end=\"\")\n",
    "            k = k + 1\n",
    "            \n",
    "    else :\n",
    "        k = 0\n",
    "        while k < i-4 :\n",
    "            print(\"  \", end=\"\")\n",
    "            k = k + 1\n",
    "        k = 0\n",
    "        while k < (9-i)*2-1 :\n",
    "            print(\"\\u2605\", end=\"\")\n",
    "            k = k + 1\n",
    "\n",
    "    print()\n",
    "    i = i + 1\n"
   ]
  },
  {
   "cell_type": "code",
   "execution_count": 3,
   "metadata": {},
   "outputs": [
    {
     "name": "stdout",
     "output_type": "stream",
     "text": [
      "  ★★★★★\n",
      "    ★★★\n",
      "      ★\n",
      "    ★★★\n",
      "  ★★★★★\n"
     ]
    }
   ],
   "source": [
    "i, j = 0, 0\n",
    "\n",
    "while i < 5 :\n",
    "    if i < 3 :\n",
    "        j=0\n",
    "        while j < i+1 :\n",
    "            print(\"  \", end=\"\")\n",
    "            j=j+1\n",
    "        j=0\n",
    "        while j < 5-2*i :\n",
    "            print(\"\\u2605\", end=\"\")\n",
    "            j=j+1\n",
    "    else :\n",
    "        j=0\n",
    "        while j < 5-i :\n",
    "            print(\"  \", end=\"\")\n",
    "            j=j+1\n",
    "        j=0\n",
    "        while j < 2*i-3 :\n",
    "            print(\"\\u2605\", end=\"\")\n",
    "            j=j+1\n",
    "    \n",
    "    print()\n",
    "    i = i + 1"
   ]
  },
  {
   "cell_type": "code",
   "execution_count": null,
   "metadata": {},
   "outputs": [],
   "source": []
  }
 ],
 "metadata": {
  "kernelspec": {
   "display_name": "Python 3",
   "language": "python",
   "name": "python3"
  },
  "language_info": {
   "codemirror_mode": {
    "name": "ipython",
    "version": 3
   },
   "file_extension": ".py",
   "mimetype": "text/x-python",
   "name": "python",
   "nbconvert_exporter": "python",
   "pygments_lexer": "ipython3",
   "version": "3.8.5"
  }
 },
 "nbformat": 4,
 "nbformat_minor": 4
}
