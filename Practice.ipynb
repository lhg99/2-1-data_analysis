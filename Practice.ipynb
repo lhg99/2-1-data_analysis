{
 "cells": [
  {
   "cell_type": "code",
   "execution_count": 3,
   "metadata": {},
   "outputs": [
    {
     "name": "stdout",
     "output_type": "stream",
     "text": [
      "첫 번째 수 입력 : 10\n",
      "연산할 문자 입력 : -\n",
      "두 번째 수 입력 : 5\n",
      "10 - 5 = 5\n"
     ]
    }
   ],
   "source": [
    "def calc(v1, v2, op) :\n",
    "    tot = 0\n",
    "    if op == \"+\" :\n",
    "        tot = v1 + v2\n",
    "    elif op == \"-\" :\n",
    "        tot = v1 - v2\n",
    "    elif op == \"*\" :\n",
    "        tot = v1 * v2\n",
    "    elif op == \"**\" :\n",
    "        tot = v1 ** v2\n",
    "    elif op == \"%\" :\n",
    "        tot = v1 % v2\n",
    "    elif op == \"/\" :\n",
    "        tot = v1 / v2\n",
    "    else :\n",
    "        print(\"연산을 잘못 입력하셨습니다.\")\n",
    "        \n",
    "    return tot\n",
    "\n",
    "n1 = int(input(\"첫 번째 수 입력 : \"))\n",
    "ab = input(\"연산할 문자 입력 : \")\n",
    "n2 = int(input(\"두 번째 수 입력 : \"))\n",
    "\n",
    "res = calc(n1, n2, ab)\n",
    "\n",
    "print(\"%d %s %d = %d\" %(n1, ab, n2, res))"
   ]
  },
  {
   "cell_type": "code",
   "execution_count": null,
   "metadata": {},
   "outputs": [],
   "source": []
  }
 ],
 "metadata": {
  "kernelspec": {
   "display_name": "Python 3",
   "language": "python",
   "name": "python3"
  },
  "language_info": {
   "codemirror_mode": {
    "name": "ipython",
    "version": 3
   },
   "file_extension": ".py",
   "mimetype": "text/x-python",
   "name": "python",
   "nbconvert_exporter": "python",
   "pygments_lexer": "ipython3",
   "version": "3.8.5"
  }
 },
 "nbformat": 4,
 "nbformat_minor": 4
}
