{
 "cells": [
  {
   "cell_type": "code",
   "execution_count": 3,
   "metadata": {},
   "outputs": [
    {
     "name": "stdout",
     "output_type": "stream",
     "text": [
      "2909625710080\n"
     ]
    }
   ],
   "source": [
    "score = [ 10, 20, 30, 40, 50 ]\n",
    "print(id(score))"
   ]
  },
  {
   "cell_type": "code",
   "execution_count": 4,
   "metadata": {},
   "outputs": [
    {
     "name": "stdout",
     "output_type": "stream",
     "text": [
      "140731299473472\n",
      "140731299473792\n",
      "140731299474112\n",
      "140731299474432\n",
      "140731299474752\n"
     ]
    }
   ],
   "source": [
    "print(id(score[0]))\n",
    "print(id(score[1]))\n",
    "print(id(score[2]))\n",
    "print(id(score[3]))\n",
    "print(id(score[4]))"
   ]
  },
  {
   "cell_type": "code",
   "execution_count": 6,
   "metadata": {},
   "outputs": [
    {
     "name": "stdout",
     "output_type": "stream",
     "text": [
      "90\n",
      "140731299476032\n"
     ]
    }
   ],
   "source": [
    "score[2] = 90\n",
    "print(score[2])\n",
    "print(id(score[2]))"
   ]
  },
  {
   "cell_type": "code",
   "execution_count": 7,
   "metadata": {},
   "outputs": [
    {
     "name": "stdout",
     "output_type": "stream",
     "text": [
      "20\n",
      "140731299473792\n"
     ]
    }
   ],
   "source": [
    "score[3] = 20\n",
    "print(score[3])\n",
    "print(id(score[3]))"
   ]
  },
  {
   "cell_type": "code",
   "execution_count": 8,
   "metadata": {},
   "outputs": [
    {
     "name": "stdout",
     "output_type": "stream",
     "text": [
      "80\n",
      "140731299475712\n"
     ]
    }
   ],
   "source": [
    "score[1] = 80\n",
    "print(score[1])\n",
    "print(id(score[1]))"
   ]
  },
  {
   "cell_type": "markdown",
   "metadata": {},
   "source": [
    "# ListCopy"
   ]
  },
  {
   "cell_type": "code",
   "execution_count": 2,
   "metadata": {},
   "outputs": [
    {
     "name": "stdout",
     "output_type": "stream",
     "text": [
      "1760357407808\n",
      "140715257964608\n",
      "140715257964928\n",
      "140715257965248\n",
      "140715257965568\n",
      "140715257965888\n"
     ]
    }
   ],
   "source": [
    "score = [ 10, 20, 30, 40, 50 ]\n",
    "print(id(score))\n",
    "print(id(score[0]))\n",
    "print(id(score[1]))\n",
    "print(id(score[2]))\n",
    "print(id(score[3]))\n",
    "print(id(score[4]))"
   ]
  },
  {
   "cell_type": "code",
   "execution_count": 3,
   "metadata": {},
   "outputs": [
    {
     "name": "stdout",
     "output_type": "stream",
     "text": [
      "1760357407808\n"
     ]
    }
   ],
   "source": [
    "values = score\n",
    "print(id(values))"
   ]
  },
  {
   "cell_type": "code",
   "execution_count": 4,
   "metadata": {},
   "outputs": [
    {
     "name": "stdout",
     "output_type": "stream",
     "text": [
      "140715257964608\n",
      "140715257964928\n",
      "140715257965248\n",
      "140715257965568\n",
      "140715257965888\n"
     ]
    }
   ],
   "source": [
    "print(id(values[0]))\n",
    "print(id(values[1]))\n",
    "print(id(values[2]))\n",
    "print(id(values[3]))\n",
    "print(id(values[4]))"
   ]
  },
  {
   "cell_type": "code",
   "execution_count": 5,
   "metadata": {},
   "outputs": [
    {
     "name": "stdout",
     "output_type": "stream",
     "text": [
      "140715257967456\n"
     ]
    }
   ],
   "source": [
    "values[2]=99\n",
    "print(id(values[2]))"
   ]
  },
  {
   "cell_type": "code",
   "execution_count": 6,
   "metadata": {},
   "outputs": [
    {
     "name": "stdout",
     "output_type": "stream",
     "text": [
      "99\n"
     ]
    }
   ],
   "source": [
    "print(score[2])"
   ]
  },
  {
   "cell_type": "code",
   "execution_count": 7,
   "metadata": {},
   "outputs": [
    {
     "name": "stdout",
     "output_type": "stream",
     "text": [
      "1760357407808\n",
      "1760358376448\n"
     ]
    }
   ],
   "source": [
    "values=list(score)\n",
    "print(id(score))\n",
    "print(id(values))"
   ]
  },
  {
   "cell_type": "code",
   "execution_count": 8,
   "metadata": {},
   "outputs": [
    {
     "name": "stdout",
     "output_type": "stream",
     "text": [
      "140715257964608\n",
      "140715257964928\n",
      "140715257967456\n",
      "140715257965568\n",
      "140715257965888\n"
     ]
    }
   ],
   "source": [
    "for i in range(5) :\n",
    "    print(id(score[i]))"
   ]
  },
  {
   "cell_type": "code",
   "execution_count": 9,
   "metadata": {},
   "outputs": [
    {
     "name": "stdout",
     "output_type": "stream",
     "text": [
      "140715257964608\n",
      "140715257964928\n",
      "140715257967456\n",
      "140715257965568\n",
      "140715257965888\n"
     ]
    }
   ],
   "source": [
    "for i in range(5) :\n",
    "    print(id(values[i]))"
   ]
  },
  {
   "cell_type": "code",
   "execution_count": 10,
   "metadata": {},
   "outputs": [
    {
     "name": "stdout",
     "output_type": "stream",
     "text": [
      "140715257967456\n"
     ]
    }
   ],
   "source": [
    "score[0] = 99\n",
    "print(id(score[0]))"
   ]
  },
  {
   "cell_type": "code",
   "execution_count": 11,
   "metadata": {},
   "outputs": [
    {
     "name": "stdout",
     "output_type": "stream",
     "text": [
      "140715257964608\n"
     ]
    }
   ],
   "source": [
    "print(id(values[0]))"
   ]
  },
  {
   "cell_type": "code",
   "execution_count": 12,
   "metadata": {},
   "outputs": [
    {
     "name": "stdout",
     "output_type": "stream",
     "text": [
      "140715257967168\n"
     ]
    }
   ],
   "source": [
    "values[1] = 90\n",
    "print(id(values[1]))"
   ]
  },
  {
   "cell_type": "code",
   "execution_count": 13,
   "metadata": {},
   "outputs": [],
   "source": [
    "values = score[:]"
   ]
  },
  {
   "cell_type": "markdown",
   "metadata": {},
   "source": [
    "# ListFunction"
   ]
  },
  {
   "cell_type": "code",
   "execution_count": 24,
   "metadata": {},
   "outputs": [
    {
     "name": "stdout",
     "output_type": "stream",
     "text": [
      "y= 10 id= 140731299473472\n",
      "x= 10 id= 140731299473472\n",
      "x= 42 id= 140731299474496\n",
      "y= 10 id= 140731299473472\n"
     ]
    }
   ],
   "source": [
    "def func1(x):\n",
    "    print(\"x=\", x, \"id=\", id(x))\n",
    "    x = 42\n",
    "    print(\"x=\", x, \"id=\", id(x))\n",
    "    \n",
    "y = 10\n",
    "print(\"y=\", y, \"id=\", id(y))\n",
    "func1(y)\n",
    "print(\"y=\", y, \"id=\", id(y))"
   ]
  },
  {
   "cell_type": "code",
   "execution_count": 25,
   "metadata": {},
   "outputs": [
    {
     "name": "stdout",
     "output_type": "stream",
     "text": [
      "[0, 1, 1, 2]\n",
      "values[0]=0, id=140731299473152\n",
      "values[1]=1, id=140731299473184\n",
      "values[2]=1, id=140731299473184\n",
      "values[3]=2, id=140731299473216\n",
      "[0, 99, 1, 2]\n",
      "values[0]=0, id=140731299473152\n",
      "values[1]=99, id=140731299476320\n",
      "values[2]=1, id=140731299473184\n",
      "values[3]=2, id=140731299473216\n"
     ]
    }
   ],
   "source": [
    "def func2(list):\n",
    "    list[1] = 99\n",
    "    \n",
    "values = [ 0, 1, 1, 2 ]\n",
    "print(values)\n",
    "for i in range(0, 4) :\n",
    "    print(\"values[%d]=%d, id=%d\" % (i, values[i], id(values[i])))\n",
    "func2(values)\n",
    "print(values)\n",
    "for i in range(0, 4) :\n",
    "    print(\"values[%d]=%d, id=%d\" % (i, values[i], id(values[i])))"
   ]
  },
  {
   "cell_type": "code",
   "execution_count": 26,
   "metadata": {},
   "outputs": [
    {
     "name": "stdout",
     "output_type": "stream",
     "text": [
      "[0, 1, 1, 2]\n",
      "[99, 1, 1, 2]\n"
     ]
    }
   ],
   "source": [
    "def func2(list):\n",
    "    list[0] = 99\n",
    "    v = [1, 2]\n",
    "    list = v\n",
    "    \n",
    "values = [ 0, 1, 1, 2 ]\n",
    "print(values)\n",
    "func2(values)\n",
    "print(values)"
   ]
  },
  {
   "cell_type": "markdown",
   "metadata": {},
   "source": [
    "# Cheapest"
   ]
  },
  {
   "cell_type": "code",
   "execution_count": 29,
   "metadata": {},
   "outputs": [
    {
     "name": "stdout",
     "output_type": "stream",
     "text": [
      "가장 싼 가격은: 20\n"
     ]
    }
   ],
   "source": [
    "prices = [90, 80, 20, 60, 70]\n",
    "cheapest = prices[0]\n",
    "\n",
    "for value in prices :\n",
    "    if cheapest > value :\n",
    "        cheapest = value\n",
    "        \n",
    "print(\"가장 싼 가격은:\", cheapest)"
   ]
  },
  {
   "cell_type": "code",
   "execution_count": 30,
   "metadata": {},
   "outputs": [
    {
     "data": {
      "text/plain": [
       "20"
      ]
     },
     "execution_count": 30,
     "metadata": {},
     "output_type": "execute_result"
    }
   ],
   "source": [
    "prices = [90, 80, 20, 60, 70]\n",
    "min(prices)"
   ]
  },
  {
   "cell_type": "markdown",
   "metadata": {},
   "source": [
    "# SequentialSearch"
   ]
  },
  {
   "cell_type": "code",
   "execution_count": 39,
   "metadata": {},
   "outputs": [
    {
     "name": "stdout",
     "output_type": "stream",
     "text": [
      "탐색 성공 위치 =  7\n"
     ]
    }
   ],
   "source": [
    "def linearSearch(aList, key) :\n",
    "    for i, value in enumerate(aList) :\n",
    "        if key == value :\n",
    "            return i\n",
    "    return -1\n",
    "\n",
    "numbers = [10, 20, 30, 40, 50, 60, 70, 80, 90]\n",
    "\n",
    "position = linearSearch(numbers, 80)\n",
    "\n",
    "if position == -1 :\n",
    "    print(\"탐색 실패\")\n",
    "else :\n",
    "    print(\"탐색 성공 위치 = \", position)"
   ]
  },
  {
   "cell_type": "code",
   "execution_count": 41,
   "metadata": {},
   "outputs": [
    {
     "name": "stdout",
     "output_type": "stream",
     "text": [
      "7\n"
     ]
    }
   ],
   "source": [
    "numbers = [10, 20, 30, 40, 50, 60, 70, 80, 90]\n",
    "print(numbers.index(80))"
   ]
  },
  {
   "cell_type": "markdown",
   "metadata": {},
   "source": [
    "# Party"
   ]
  },
  {
   "cell_type": "code",
   "execution_count": 42,
   "metadata": {},
   "outputs": [
    {
     "name": "stdout",
     "output_type": "stream",
     "text": [
      "2개의 파티에 모두 참석한 사람은 다음과 같습니다. \n",
      "{'Park'}\n"
     ]
    }
   ],
   "source": [
    "partyA = set([\"Park\", \"Kim\", \"Lee\"])\n",
    "partyB = set([\"Park\", \"Choi\"])\n",
    "\n",
    "print(\"2개의 파티에 모두 참석한 사람은 다음과 같습니다. \")\n",
    "print(partyA.intersection(partyB))"
   ]
  },
  {
   "cell_type": "markdown",
   "metadata": {},
   "source": [
    "# Words_Set"
   ]
  },
  {
   "cell_type": "code",
   "execution_count": 14,
   "metadata": {},
   "outputs": [
    {
     "name": "stdout",
     "output_type": "stream",
     "text": [
      "입력 파일 이름 : proverbs.txt\n",
      "사용된 단어의 개수 = 18\n",
      "{'travels', 'together', 'done', 'flock', 'ends', 'half', 'is', 'news', 'a', 'of', 'that', 'fast', 'feather', 'begun', 'birds', 'alls', 'bad', 'well'}\n"
     ]
    }
   ],
   "source": [
    "# 단어에서 구두점을 제거하고 소문자로 만든다.\n",
    "def process(w) :\n",
    "    output = \"\"\n",
    "    for ch in w :\n",
    "        if ch.isalpha() :\n",
    "            output += ch\n",
    "    return output.lower()\n",
    "\n",
    "words = set()\n",
    "\n",
    "fname = input(\"입력 파일 이름 : \")\n",
    "file = open(fname, \"r\")\n",
    "\n",
    "for line in file :\n",
    "    lineWords = line.split()\n",
    "    #print(lineWords)\n",
    "    for word in lineWords :\n",
    "        #print(word)\n",
    "        words.add(process(word))\n",
    "        \n",
    "print(\"사용된 단어의 개수 =\", len(words))\n",
    "print(words)"
   ]
  },
  {
   "cell_type": "markdown",
   "metadata": {},
   "source": [
    "# WordsCounter"
   ]
  },
  {
   "cell_type": "code",
   "execution_count": 49,
   "metadata": {},
   "outputs": [
    {
     "name": "stdout",
     "output_type": "stream",
     "text": [
      "파일 이름: 1.txt\n",
      "{\"All's\": 2, 'well': 2, 'that': 2, 'ends': 2, 'well.': 2, 'Bad': 1, 'news': 1, 'travels': 1, 'fast.': 1, 'Well': 1, 'begun': 1, 'is': 1, 'half': 1, 'done.': 1, 'Birds': 1, 'of': 1, 'a': 1, 'feather': 1, 'flock': 1, 'together.': 1}\n"
     ]
    }
   ],
   "source": [
    "fname = input(\"파일 이름: \")\n",
    "file = open(fname, \"r\")\n",
    "\n",
    "table = dict()\n",
    "\n",
    "for line in file :\n",
    "    words = line.split()\n",
    "    for word in words :\n",
    "        if word not in table :\n",
    "            table[word]=1\n",
    "        else :\n",
    "            table[word] = table[word] + 1\n",
    "            \n",
    "print(table)"
   ]
  },
  {
   "cell_type": "markdown",
   "metadata": {},
   "source": [
    "# StringAnalysis"
   ]
  },
  {
   "cell_type": "code",
   "execution_count": 52,
   "metadata": {},
   "outputs": [
    {
     "name": "stdout",
     "output_type": "stream",
     "text": [
      "문자열을 입력하시오: A picture is worth a thousand words. 123\n",
      "{'alaphas': 29, 'digits': 3, 'spaces': 7}\n"
     ]
    }
   ],
   "source": [
    "sentence = input(\"문자열을 입력하시오: \")\n",
    "\n",
    "table = {\"alaphas\" : 0, \"digits\" : 0, \"spaces\" : 0}\n",
    "\n",
    "for i in sentence :\n",
    "    if i.isalpha() :\n",
    "        table[\"alaphas\"] += 1\n",
    "    if i.isdigit() :\n",
    "        table[\"digits\"] += 1\n",
    "    if i.isspace() :\n",
    "        table[\"spaces\"] += 1\n",
    "        \n",
    "print(table)"
   ]
  },
  {
   "cell_type": "code",
   "execution_count": null,
   "metadata": {},
   "outputs": [],
   "source": []
  }
 ],
 "metadata": {
  "kernelspec": {
   "display_name": "Python 3",
   "language": "python",
   "name": "python3"
  },
  "language_info": {
   "codemirror_mode": {
    "name": "ipython",
    "version": 3
   },
   "file_extension": ".py",
   "mimetype": "text/x-python",
   "name": "python",
   "nbconvert_exporter": "python",
   "pygments_lexer": "ipython3",
   "version": "3.8.5"
  }
 },
 "nbformat": 4,
 "nbformat_minor": 4
}
